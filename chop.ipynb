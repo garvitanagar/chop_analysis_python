{
 "cells": [
  {
   "cell_type": "code",
   "execution_count": 175,
   "metadata": {},
   "outputs": [],
   "source": [
    "import pandas as pd\n",
    "import numpy as np"
   ]
  },
  {
   "cell_type": "markdown",
   "metadata": {},
   "source": [
    "### Importing files"
   ]
  },
  {
   "cell_type": "code",
   "execution_count": 176,
   "metadata": {},
   "outputs": [],
   "source": [
    "patients = pd.read_csv('patients.csv')\n",
    "encounters = pd.read_csv('encounters.csv')\n",
    "procedures = pd.read_csv('procedures.csv')\n",
    "medications = pd.read_csv('medications.csv')\n",
    "allergies = pd.read_csv('allergies.csv')"
   ]
  },
  {
   "cell_type": "markdown",
   "metadata": {},
   "source": [
    "### Merging Patient and Encounters data\n",
    "#### ape is all_patient_encounters"
   ]
  },
  {
   "cell_type": "code",
   "execution_count": 177,
   "metadata": {},
   "outputs": [
    {
     "name": "stdout",
     "output_type": "stream",
     "text": [
      "CPU times: user 272 ms, sys: 46.8 ms, total: 319 ms\n",
      "Wall time: 319 ms\n"
     ]
    }
   ],
   "source": [
    "%%time\n",
    "ape = pd.merge(patients,encounters,left_on='Id',right_on='PATIENT',how='left')"
   ]
  },
  {
   "cell_type": "code",
   "execution_count": 178,
   "metadata": {},
   "outputs": [],
   "source": [
    "## Renaming columns\n",
    "column_name = {'Id_x':'PATIENT_ID','Id_y':'ENCOUNTER_ID'}\n",
    "ape.rename(columns=column_name,inplace=True)"
   ]
  },
  {
   "cell_type": "markdown",
   "metadata": {},
   "source": [
    "### Different Encounters"
   ]
  },
  {
   "cell_type": "code",
   "execution_count": 179,
   "metadata": {},
   "outputs": [],
   "source": [
    "#dict(ape['REASONDESCRIPTION'].value_counts())"
   ]
  },
  {
   "cell_type": "markdown",
   "metadata": {},
   "source": [
    "### Converting Birth, Death, Start and Stop date object to datetime type"
   ]
  },
  {
   "cell_type": "code",
   "execution_count": 180,
   "metadata": {},
   "outputs": [],
   "source": [
    "ape['BIRTHDATE'] = pd.to_datetime(ape['BIRTHDATE'], format='%Y-%m-%d')\n",
    "ape['DEATHDATE'] = pd.to_datetime(ape['DEATHDATE'], format='%Y-%m-%d').dt.to_period('D')\n",
    "ape['START'] =  pd.to_datetime(ape['START'], format='%Y-%m-%d %H:%M:%S.%f')\n",
    "ape['STOP'] =  pd.to_datetime(ape['STOP'], format='%Y-%m-%d').dt.to_period('D')"
   ]
  },
  {
   "cell_type": "markdown",
   "metadata": {},
   "source": [
    "### Calculating AGE"
   ]
  },
  {
   "cell_type": "code",
   "execution_count": 181,
   "metadata": {},
   "outputs": [],
   "source": [
    "#sorted(ape[ape['START']>pd.Timestamp(1999,7,15)]['START'].dt.to_period('M').unique())\n",
    "ape['AGE_AT_ENCOUNTER'] = (np.floor((pd.to_datetime(ape['START']) - \n",
    "             pd.to_datetime(ape['BIRTHDATE'])).dt.days / 365.25)).astype(int)"
   ]
  },
  {
   "cell_type": "markdown",
   "metadata": {},
   "source": [
    "### Filter\n",
    "#### Drug Overdose, encounters after July 15,1999 and patients age between 18 and 35\n",
    "###### ape_do - contain all_patient_encouters_drug_overdose"
   ]
  },
  {
   "cell_type": "code",
   "execution_count": 182,
   "metadata": {},
   "outputs": [],
   "source": [
    "ape_do = ape[(ape['REASONDESCRIPTION']=='Drug overdose') & (ape['START']>pd.Timestamp(1999,7,15)) & (ape['AGE_AT_ENCOUNTER'].between(18,35))]\n",
    "ape_do = ape_do[['PATIENT_ID','ENCOUNTER_ID','BIRTHDATE','DEATHDATE','START','STOP','AGE_AT_ENCOUNTER']]\n"
   ]
  },
  {
   "cell_type": "markdown",
   "metadata": {},
   "source": [
    "### Part 2\n",
    "#### Creating DEATH_AT_VISIT_IND variable"
   ]
  },
  {
   "cell_type": "code",
   "execution_count": 183,
   "metadata": {},
   "outputs": [],
   "source": [
    "start = ape_do['START'].dt.to_period('D')\n",
    "stop = ape_do['STOP']\n",
    "death = ape_do['DEATHDATE']\n",
    "ape_do['DEATH_AT_VISIT_IND'] = np.where(death.isnull(),'N/A',np.where(death.between(start,stop),1,0))\n"
   ]
  },
  {
   "cell_type": "markdown",
   "metadata": {},
   "source": [
    "### Medication \n",
    "#### Including Today's date as stop date if N/A (still on medication), ape_do_med - now includes medication data in ape_do\n"
   ]
  },
  {
   "cell_type": "code",
   "execution_count": 184,
   "metadata": {},
   "outputs": [],
   "source": [
    "medications = medications[['START', 'STOP', 'PATIENT', 'ENCOUNTER', 'CODE', 'DESCRIPTION']]\n",
    "medications['START'] =  pd.to_datetime(medications['START'], format='%Y-%m-%d')\n",
    "medications['STOP'] =  pd.to_datetime(medications['STOP'], format='%Y-%m-%d')\n",
    "ape_do_med = pd.merge(ape_do,medications,left_on='PATIENT_ID',right_on='PATIENT',how='left')\n",
    "ape_do_med['STOP_y'] = pd.to_datetime(ape_do_med['STOP_y'].fillna(pd.Timestamp(\"today\")), format='%Y-%m-%d')"
   ]
  },
  {
   "cell_type": "markdown",
   "metadata": {},
   "source": [
    "#### Filtering medications active and not active during the start encounter date "
   ]
  },
  {
   "cell_type": "code",
   "execution_count": 185,
   "metadata": {},
   "outputs": [],
   "source": [
    "start_encounter = ape_do_med['START_x'].dt.to_period('D')\n",
    "medication_start = ape_do_med['START_y'].dt.to_period('D')\n",
    "medication_stop = ape_do_med['STOP_y'].dt.to_period('D')\n",
    "ape_do_med['MED_STATUS_BEFORE_ENC'] = np.where(start_encounter.between(medication_start,medication_stop),1,0)\n"
   ]
  },
  {
   "cell_type": "code",
   "execution_count": 186,
   "metadata": {},
   "outputs": [],
   "source": [
    "## Renaming columns\n",
    "column_name = {'START_x':'ENCOUNTER_START','START_y':'MEDICATION_START','STOP_x':'ENCOUNTER_STOP','STOP_y':'MEDICATION_STOP'}\n",
    "ape_do_med.rename(columns=column_name,inplace=True)\n"
   ]
  },
  {
   "cell_type": "markdown",
   "metadata": {},
   "source": [
    "#### Creating CURRENT_OPIOID_IND if MED_STATUS_BEFORE_ENC(medication status before encounter) is True"
   ]
  },
  {
   "cell_type": "code",
   "execution_count": 187,
   "metadata": {},
   "outputs": [],
   "source": [
    "hydro = ape_do_med['DESCRIPTION'].str.contains('Hydromorphone 325 MG',na=False)\n",
    "fen = ape_do_med['DESCRIPTION'].str.contains('Fentanyl 100 MCG',na=False)\n",
    "oxy = ape_do_med['DESCRIPTION'].str.contains('Oxycodone-acetaminophen 100ML',na=False)\n",
    "ape_do_med['CURRENT_OPIOID_IND'] = np.where((ape_do_med.MED_STATUS_BEFORE_ENC==1)&(hydro | fen | oxy),1,0)"
   ]
  },
  {
   "cell_type": "markdown",
   "metadata": {},
   "source": [
    "#### Distributing Active and Not active patients by MED_STATUS_BEFORE_ENC"
   ]
  },
  {
   "cell_type": "code",
   "execution_count": 188,
   "metadata": {},
   "outputs": [],
   "source": [
    "ape_do_med_active = ape_do_med[ape_do_med['MED_STATUS_BEFORE_ENC']==1]\n",
    "ape_do_med_not_active = ape_do_med[ape_do_med['MED_STATUS_BEFORE_ENC']==0]"
   ]
  },
  {
   "cell_type": "markdown",
   "metadata": {},
   "source": [
    "#### Grouping both active and not active patients to COUNT_CURRENT_MEDS"
   ]
  },
  {
   "cell_type": "code",
   "execution_count": 189,
   "metadata": {},
   "outputs": [],
   "source": [
    "ape_do_med_active = ape_do_med_active.groupby(['PATIENT_ID', 'ENCOUNTER_ID','ENCOUNTER_START','AGE_AT_ENCOUNTER','DEATH_AT_VISIT_IND'], as_index=False).agg({'MED_STATUS_BEFORE_ENC':'sum','CURRENT_OPIOID_IND':'sum'})\n",
    "ape_do_med_not_active = ape_do_med_not_active.groupby(['PATIENT_ID', 'ENCOUNTER_ID','ENCOUNTER_START','AGE_AT_ENCOUNTER','DEATH_AT_VISIT_IND'], as_index=False).agg({'MED_STATUS_BEFORE_ENC':'sum','CURRENT_OPIOID_IND':'sum'})\n",
    "ape_do_med_active.rename(columns={'MED_STATUS_BEFORE_ENC':'COUNT_CURRENT_MEDS'},inplace=True)\n",
    "ape_do_med_not_active.rename(columns={'MED_STATUS_BEFORE_ENC':'COUNT_CURRENT_MEDS'},inplace=True)\n"
   ]
  },
  {
   "cell_type": "markdown",
   "metadata": {},
   "source": [
    "#### Removing already existing patient_id's in active df from not active df"
   ]
  },
  {
   "cell_type": "code",
   "execution_count": 190,
   "metadata": {},
   "outputs": [],
   "source": [
    "ap = ape_do_med_not_active[~ape_do_med_not_active['ENCOUNTER_ID'].isin(ape_do_med_active.ENCOUNTER_ID)]"
   ]
  },
  {
   "cell_type": "markdown",
   "metadata": {},
   "source": [
    "#### Stacking both active and not active dataframe\n",
    "#### ape_do_both - contains all_patients, encounters, drug_overdose amd medication data"
   ]
  },
  {
   "cell_type": "code",
   "execution_count": 191,
   "metadata": {},
   "outputs": [],
   "source": [
    "ape_do_both = pd.concat([ape_do_med_active,ap],ignore_index=True).sort_values(by=['PATIENT_ID','ENCOUNTER_START'])"
   ]
  },
  {
   "cell_type": "markdown",
   "metadata": {},
   "source": [
    "### Creating READMISSION_90_DAY_IND, READMISSION_30_DAY_IND and FIRST_READMISSION_DATE"
   ]
  },
  {
   "cell_type": "code",
   "execution_count": 192,
   "metadata": {},
   "outputs": [],
   "source": [
    "previous = ape_do_both['ENCOUNTER_START'].shift(-1)\n",
    "current = ape_do_both['ENCOUNTER_START']\n",
    "\n",
    "ape_do_both['READMISSION_90_DAY_IND'] = np.where(\n",
    "    \n",
    "    ((previous - current).dt.days <= 90) & (ape_do_both['PATIENT_ID'].shift(-1) == ape_do_both['PATIENT_ID']), 1, 0\n",
    ")"
   ]
  },
  {
   "cell_type": "code",
   "execution_count": 193,
   "metadata": {},
   "outputs": [],
   "source": [
    "ape_do_both['READMISSION_30_DAY_IND'] = np.where(\n",
    "    ((previous - current).dt.days <= 30) &\n",
    "    (ape_do_both['PATIENT_ID'].shift(-1) == ape_do_both['PATIENT_ID']), 1, 0\n",
    ")"
   ]
  },
  {
   "cell_type": "code",
   "execution_count": 194,
   "metadata": {},
   "outputs": [],
   "source": [
    "ape_do_both['FIRST_READMISSION_DATE'] = np.where(\n",
    "    (ape_do_both['READMISSION_90_DAY_IND'] == 1), (previous).dt.strftime('%Y-%m-%d %H:%M:%S'),'N/A'\n",
    ")"
   ]
  },
  {
   "cell_type": "code",
   "execution_count": 201,
   "metadata": {},
   "outputs": [],
   "source": [
    "ape_do_both.rename(columns={'ENCOUNTER_START':'HOSPITAL_ENCOUNTER_DATE','AGE_AT_ENCOUNTER':'AGE_AT_VISIT'},inplace=True)"
   ]
  },
  {
   "cell_type": "markdown",
   "metadata": {},
   "source": [
    "### Exporting into CSV"
   ]
  },
  {
   "cell_type": "code",
   "execution_count": 203,
   "metadata": {},
   "outputs": [],
   "source": [
    "ape_do_both.to_csv(r'/Users/gn342/Downloads/analyst-take-home-task-master/Solution/garvita_nagar.csv', index=False)"
   ]
  }
 ],
 "metadata": {
  "kernelspec": {
   "display_name": "Python 3",
   "language": "python",
   "name": "python3"
  },
  "language_info": {
   "codemirror_mode": {
    "name": "ipython",
    "version": 3
   },
   "file_extension": ".py",
   "mimetype": "text/x-python",
   "name": "python",
   "nbconvert_exporter": "python",
   "pygments_lexer": "ipython3",
   "version": "3.7.6"
  }
 },
 "nbformat": 4,
 "nbformat_minor": 4
}
